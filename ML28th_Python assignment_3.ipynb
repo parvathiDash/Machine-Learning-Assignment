{
 "cells": [
  {
   "cell_type": "markdown",
   "metadata": {},
   "source": [
    "# List Comprehension:"
   ]
  },
  {
   "cell_type": "code",
   "execution_count": 331,
   "metadata": {},
   "outputs": [
    {
     "name": "stdout",
     "output_type": "stream",
     "text": [
      "['x', 'xx', 'xxx', 'xxxx', 'y', 'yy', 'yyy', 'yyyy', 'z', 'zz', 'zzz', 'zzzz']\n"
     ]
    }
   ],
   "source": [
    "ele = ['x','y','z']\n",
    "k = 4\n",
    "\n",
    "res =  [i*j for i in ele for j in range(1,k+1)] \n",
    "print(res)"
   ]
  },
  {
   "cell_type": "code",
   "execution_count": 332,
   "metadata": {},
   "outputs": [
    {
     "name": "stdout",
     "output_type": "stream",
     "text": [
      "['x', 'y', 'z', 'xx', 'yy', 'zz', 'xxx', 'yyy', 'zzz', 'xxxx', 'yyyy', 'zzzz']\n"
     ]
    }
   ],
   "source": [
    "ele = ['x','y','z']\n",
    "k = 4\n",
    "\n",
    "res =  [i*j for i in range(1,k+1) for j in ele] \n",
    "print(res)"
   ]
  },
  {
   "cell_type": "code",
   "execution_count": 333,
   "metadata": {},
   "outputs": [
    {
     "name": "stdout",
     "output_type": "stream",
     "text": [
      "[[2], [3], [4], [3], [4], [5], [4], [5], [6]]\n"
     ]
    }
   ],
   "source": [
    "\n",
    "input_list = [2,3,4]\n",
    "result = [ [item+j] for item in input_list for j in range(0,3) ]\n",
    "print(result)"
   ]
  },
  {
   "cell_type": "code",
   "execution_count": 334,
   "metadata": {},
   "outputs": [
    {
     "name": "stdout",
     "output_type": "stream",
     "text": [
      "[[2, 3, 4, 5], [3, 4, 5, 6], [4, 5, 6, 7], [5, 6, 7, 8]]\n"
     ]
    }
   ],
   "source": [
    "\n",
    "input_list = [2,3,4,5]\n",
    "result = [ [item+j for item in input_list] for j in range(0,4) ]\n",
    "print(result)"
   ]
  },
  {
   "cell_type": "code",
   "execution_count": 335,
   "metadata": {},
   "outputs": [
    {
     "name": "stdout",
     "output_type": "stream",
     "text": [
      "[(1, 1), (2, 1), (3, 1), (1, 2), (2, 2), (3, 2), (1, 3), (2, 3), (3, 3)]\n"
     ]
    }
   ],
   "source": [
    "\n",
    "input_list = [1,2,3]\n",
    "result = [ (item,j) for j in range(1,4) for item in input_list  ]\n",
    "print(result)"
   ]
  },
  {
   "cell_type": "markdown",
   "metadata": {},
   "source": [
    "# 1.1) Write a Python program to implement your own myreduce() function which works exactly like pythons built in function reduce"
   ]
  },
  {
   "cell_type": "code",
   "execution_count": 390,
   "metadata": {},
   "outputs": [
    {
     "name": "stdout",
     "output_type": "stream",
     "text": [
      "18\n"
     ]
    }
   ],
   "source": [
    "list1= [1, 2, 3, 3]\n",
    "def do_mul(x1, x2): \n",
    "    return x1 * x2\n",
    "from functools import reduce\n",
    "y1 = reduce(do_mul,list1)\n",
    "print(y1)"
   ]
  },
  {
   "cell_type": "code",
   "execution_count": 391,
   "metadata": {},
   "outputs": [
    {
     "data": {
      "text/plain": [
       "18"
      ]
     },
     "execution_count": 391,
     "metadata": {},
     "output_type": "execute_result"
    }
   ],
   "source": [
    "\n",
    "def do_mul(x1, x2): \n",
    "    return x1 * x2\n",
    "\n",
    "def myreduce(do_mul, list1):\n",
    "    first = seq[0]   \n",
    "    for i in seq[1:]:\n",
    "        first = func(first, i)\n",
    "    return first\n",
    " \n",
    " \n",
    "list1= [1, 2, 3, 3]\n",
    "my_reduce(do_mul,list1)"
   ]
  },
  {
   "cell_type": "markdown",
   "metadata": {},
   "source": [
    "# 1.2) write a python program to implement your own myfilter() function which works exactly like Pythons built in function filter"
   ]
  },
  {
   "cell_type": "code",
   "execution_count": 392,
   "metadata": {},
   "outputs": [
    {
     "data": {
      "text/plain": [
       "[5, 12, 17]"
      ]
     },
     "execution_count": 392,
     "metadata": {},
     "output_type": "execute_result"
    }
   ],
   "source": [
    "ages = [5,12,17,18,23,32]\n",
    "def myfunc(x):\n",
    "    if x<18:\n",
    "        \n",
    "        return True\n",
    "    \n",
    "    else:\n",
    "        return False\n",
    "adults = list(filter(myfunc,ages))\n",
    "adults\n"
   ]
  },
  {
   "cell_type": "code",
   "execution_count": 415,
   "metadata": {},
   "outputs": [
    {
     "data": {
      "text/plain": [
       "[5, 12, 17]"
      ]
     },
     "execution_count": 415,
     "metadata": {},
     "output_type": "execute_result"
    }
   ],
   "source": [
    "ages = [5,12,17,18,23,32]\n",
    "def myfunc(x):\n",
    "    if x<18:\n",
    "        \n",
    "        return True\n",
    "    \n",
    "    else:\n",
    "        return False\n",
    "def myfilter(myfunc,ages):\n",
    "    ret = []\n",
    "    for i in ages:\n",
    "        a = myfunc(i)\n",
    "        if a == True:\n",
    "            ret.append(i)\n",
    "    return ret\n",
    "myfilter(myfunc,ages)\n",
    "    "
   ]
  }
 ],
 "metadata": {
  "kernelspec": {
   "display_name": "Python 3",
   "language": "python",
   "name": "python3"
  },
  "language_info": {
   "codemirror_mode": {
    "name": "ipython",
    "version": 3
   },
   "file_extension": ".py",
   "mimetype": "text/x-python",
   "name": "python",
   "nbconvert_exporter": "python",
   "pygments_lexer": "ipython3",
   "version": "3.7.3"
  }
 },
 "nbformat": 4,
 "nbformat_minor": 2
}
