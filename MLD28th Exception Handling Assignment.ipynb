{
 "cells": [
  {
   "cell_type": "markdown",
   "metadata": {},
   "source": [
    "# 1) write a function to compute 5/0 and use try/except to catch the expressions"
   ]
  },
  {
   "cell_type": "code",
   "execution_count": 1,
   "metadata": {},
   "outputs": [
    {
     "name": "stdout",
     "output_type": "stream",
     "text": [
      "The entered number is infinity\n"
     ]
    }
   ],
   "source": [
    "def infinity():\n",
    "    try:\n",
    "        5/0\n",
    "    except ZeroDivisionError:\n",
    "        print(\"The entered number is infinity\")\n",
    "infinity()"
   ]
  },
  {
   "cell_type": "markdown",
   "metadata": {},
   "source": [
    "# 2) Implement a Python program to generate all sentences where subject =  [\"Americans\",\"Indians\"] and verb is in [\"play\",\"watch\"] and the object is in [\"Baseball\",\"Cricket\"]"
   ]
  },
  {
   "cell_type": "code",
   "execution_count": 2,
   "metadata": {},
   "outputs": [
    {
     "name": "stdout",
     "output_type": "stream",
     "text": [
      "Americans play Baseball\n",
      "Americans play Cricket\n",
      "Americans watch Baseball\n",
      "Americans watch Cricket\n",
      "Indians play Baseball\n",
      "Indians play Cricket\n",
      "Indians watch Baseball\n",
      "Indians watch Cricket\n",
      "\n"
     ]
    }
   ],
   "source": [
    "class generate_all_sentences():\n",
    "    def __init__(self):\n",
    "        self.S = [\"Americans\",\"Indians\"]\n",
    "        self.V = [\"play\",\"watch\"]\n",
    "        self.O = [\"Baseball\",\"Cricket\"]\n",
    "    def computation(self):\n",
    "        #y=[(i,k,l) for i in self.S for k in self.V for l in self.O]\n",
    "        y = (''.join(\"%s %s %s\\n\" %(i,k,l) for i in self.S for k in self.V for l in self.O))\n",
    "        return(y)\n",
    "    \n",
    "    def __str__(self):\n",
    "        return(\"%s %s %s \" %(self.S,self.V,self.O))\n",
    "    \n",
    "obj1 = generate_all_sentences()\n",
    "#print(obj1)\n",
    "print(obj1.computation())\n",
    "\n"
   ]
  },
  {
   "cell_type": "code",
   "execution_count": null,
   "metadata": {},
   "outputs": [],
   "source": []
  }
 ],
 "metadata": {
  "kernelspec": {
   "display_name": "Python 3",
   "language": "python",
   "name": "python3"
  },
  "language_info": {
   "codemirror_mode": {
    "name": "ipython",
    "version": 3
   },
   "file_extension": ".py",
   "mimetype": "text/x-python",
   "name": "python",
   "nbconvert_exporter": "python",
   "pygments_lexer": "ipython3",
   "version": "3.7.3"
  }
 },
 "nbformat": 4,
 "nbformat_minor": 2
}
