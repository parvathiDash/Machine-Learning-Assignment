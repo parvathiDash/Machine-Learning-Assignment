{
 "cells": [
  {
   "cell_type": "markdown",
   "metadata": {},
   "source": [
    "#  3 ) Implement a function longestword() that takes a list of words and returns the longest one."
   ]
  },
  {
   "cell_type": "code",
   "execution_count": 419,
   "metadata": {},
   "outputs": [
    {
     "name": "stdout",
     "output_type": "stream",
     "text": [
      "hi how are you \n"
     ]
    },
    {
     "data": {
      "text/plain": [
       "['how', 'are', 'you']"
      ]
     },
     "execution_count": 419,
     "metadata": {},
     "output_type": "execute_result"
    }
   ],
   "source": [
    "def longest_word_functions(x):\n",
    "    \n",
    "    #latest correct code\n",
    "    length_append = []\n",
    "    index_values =[]\n",
    "    key_values= []\n",
    "    mydict = {}\n",
    "    \n",
    "    set_input = set(getinput)\n",
    "    max_length = max(len(ele) for ele in set_input)\n",
    "    for s in set_input:\n",
    "        length = len(s)\n",
    "        length_append.append([length,s])\n",
    "    for i in length_append:\n",
    "        if i[0] == max_length:\n",
    "            index_values.append(i[0])\n",
    "            key_values.append(i[1])\n",
    "        mydict['key1'] = index_values\n",
    "        mydict['key2'] = key_values\n",
    "   \n",
    "    \n",
    "    return (mydict['key2'])\n",
    "getinput = input().split()\n",
    "longest_word_functions(getinput)"
   ]
  },
  {
   "cell_type": "markdown",
   "metadata": {},
   "source": [
    "# Task 2\n",
    "# 1.1) write a python program to implement area of a triangle using the formula area = (s*(s-a)*(s-b)*(s-c))* *0.5\n",
    "# Functions to take the length of the sides of triangle from user should be defined in the parent class and function to calculate the area should be defined in subclass"
   ]
  },
  {
   "cell_type": "code",
   "execution_count": 384,
   "metadata": {},
   "outputs": [],
   "source": [
    "#Functions to get the length of triangle from user in Parent Class:\n",
    "class Length_of_triangle():\n",
    "    def __init__(self,a,b,c):\n",
    "        self.a = a\n",
    "        self.b = b\n",
    "        self.c = c\n",
    "    \n",
    "    \n",
    "    def __str__(self):\n",
    "        \n",
    "        return(\"a side is : %d b side is: %d c side is: %d\" %(self.a,self.b,self.c))\n",
    "\n",
    "                                "
   ]
  },
  {
   "cell_type": "code",
   "execution_count": 385,
   "metadata": {},
   "outputs": [
    {
     "name": "stdout",
     "output_type": "stream",
     "text": [
      "a side is : 2 b side is: 3 c side is: 3\n",
      "Perimeter is 4,                Area is 2.828427\n"
     ]
    }
   ],
   "source": [
    "#Area of Triangle is the subclass where its inheriting length of each sides from Parent class\n",
    "class Area_of_Triangle(Length_of_triangle):\n",
    "    def __init__(self,*args):\n",
    "        super(Area_of_Triangle,self). __init__(*args)\n",
    "    \n",
    "    def perimeter(self):\n",
    "        s=((self.a+self.b+self.c)/2)\n",
    "        area = (s*(s-self.a)*(s-self.b)*(s-self.c))**0.5\n",
    "        return (\"Perimeter is %d,\\\n",
    "                Area is %f\" %(s,area))\n",
    "    \n",
    "        \n",
    "    def __str__(self):\n",
    "        return super(Area_of_Triangle, self).__str__()\n",
    "tree = Area_of_Triangle(2,3,3)\n",
    "print(tree)\n",
    "print(tree.perimeter())\n"
   ]
  },
  {
   "cell_type": "markdown",
   "metadata": {},
   "source": [
    "  # 1.2) write a python filter_long_words() that takes a list of words and an integer n and returns the list of words that are longer than n"
   ]
  },
  {
   "cell_type": "code",
   "execution_count": 389,
   "metadata": {},
   "outputs": [
    {
     "name": "stdout",
     "output_type": "stream",
     "text": [
      "enter the list of words:hi how are you doing\n",
      "enter the n:3\n"
     ]
    },
    {
     "data": {
      "text/plain": [
       "['doing']"
      ]
     },
     "execution_count": 389,
     "metadata": {},
     "output_type": "execute_result"
    }
   ],
   "source": [
    "\n",
    "def filter_long_words(getinput,get_integer):\n",
    "    a = []\n",
    "    mydict = {}\n",
    "\n",
    "    for words in getinput:\n",
    "        if (len(words)> get_integer):\n",
    "            a.append(words)\n",
    "    return(a)\n",
    "getinput = input(\"enter the list of words:\").split()\n",
    "get_integer = int(input(\"enter the n:\"))\n",
    "\n",
    "filter_long_words(getinput,get_integer)"
   ]
  },
  {
   "cell_type": "markdown",
   "metadata": {},
   "source": [
    "# 2.1 Write a python program using function concept that maps list of words into a list of Integers representing the lengths of the corresponding words"
   ]
  },
  {
   "cell_type": "code",
   "execution_count": 388,
   "metadata": {},
   "outputs": [
    {
     "name": "stdout",
     "output_type": "stream",
     "text": [
      "Enter the list: hi how are you\n",
      "hi how are you\n",
      "[2, 3, 3, 3]\n"
     ]
    }
   ],
   "source": [
    "get_input = input(\"Enter the list: \")\n",
    "class maps_list_int():\n",
    "    def __init__(self,get_input):\n",
    "        self.get_input = get_input\n",
    "    def list_int(self):\n",
    "        s = self.get_input.split()\n",
    "        a = []\n",
    "        for words in s:\n",
    "            a.append(len(words))\n",
    "        return a\n",
    "            \n",
    "        \n",
    "    def __str__(self):\n",
    "        return (\"%s\" %(self.get_input))\n",
    "obj = maps_list_int(get_input)\n",
    "print(obj)\n",
    "print(obj.list_int())"
   ]
  },
  {
   "cell_type": "markdown",
   "metadata": {},
   "source": [
    "# 2.2 Write a Python function which takes a Character and returns TRUE if its Vowel else False"
   ]
  },
  {
   "cell_type": "code",
   "execution_count": 386,
   "metadata": {},
   "outputs": [
    {
     "name": "stdout",
     "output_type": "stream",
     "text": [
      "Enter '0' for exit.\n",
      "Enter any character: s\n"
     ]
    },
    {
     "data": {
      "text/plain": [
       "False"
      ]
     },
     "execution_count": 386,
     "metadata": {},
     "output_type": "execute_result"
    }
   ],
   "source": [
    "def vowel_or_not(ch):\n",
    "    if ch == '0':\n",
    "        exit();\n",
    "    else:\n",
    "        if(ch=='a' or ch=='A' or ch=='e' or ch=='E' or ch=='i' or ch=='I'or ch=='o' or ch=='O' or ch=='u' or ch=='U'):\n",
    "            return True\n",
    "        else:\n",
    "            return False\n",
    "print(\"Enter '0' for exit.\")\n",
    "ch = input(\"Enter any character: \")\n",
    "vowel_or_not(ch)"
   ]
  }
 ],
 "metadata": {
  "kernelspec": {
   "display_name": "Python 3",
   "language": "python",
   "name": "python3"
  },
  "language_info": {
   "codemirror_mode": {
    "name": "ipython",
    "version": 3
   },
   "file_extension": ".py",
   "mimetype": "text/x-python",
   "name": "python",
   "nbconvert_exporter": "python",
   "pygments_lexer": "ipython3",
   "version": "3.7.3"
  }
 },
 "nbformat": 4,
 "nbformat_minor": 2
}
