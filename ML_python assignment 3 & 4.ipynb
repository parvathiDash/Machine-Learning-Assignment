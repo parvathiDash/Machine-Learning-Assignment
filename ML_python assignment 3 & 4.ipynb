{
 "cells": [
  {
   "cell_type": "markdown",
   "metadata": {},
   "source": [
    "# defining my own map which performs same as pythons inbuilt function map"
   ]
  },
  {
   "cell_type": "code",
   "execution_count": 374,
   "metadata": {},
   "outputs": [],
   "source": [
    "list1 = [1,2,3,4,5]\n",
    "def square(x):\n",
    "    \n",
    "            return x**2\n",
    "    \n"
   ]
  },
  {
   "cell_type": "code",
   "execution_count": 375,
   "metadata": {},
   "outputs": [
    {
     "data": {
      "text/plain": [
       "[1, 4, 9, 16, 25]"
      ]
     },
     "execution_count": 375,
     "metadata": {},
     "output_type": "execute_result"
    }
   ],
   "source": [
    "y = list(map(square,list1))\n",
    "y"
   ]
  },
  {
   "cell_type": "code",
   "execution_count": 341,
   "metadata": {},
   "outputs": [
    {
     "data": {
      "text/plain": [
       "[1, 4, 9, 16, 25]"
      ]
     },
     "execution_count": 341,
     "metadata": {},
     "output_type": "execute_result"
    }
   ],
   "source": [
    "y = list(map(lambda x:x*x,list1))\n",
    "y"
   ]
  },
  {
   "cell_type": "code",
   "execution_count": 382,
   "metadata": {},
   "outputs": [],
   "source": [
    "def my_map(square,list1):\n",
    "    ret = []\n",
    "    for i in list1:\n",
    "        \n",
    "        ret.append(square(i)) \n",
    "    return  ret \n",
    "        \n",
    "        "
   ]
  },
  {
   "cell_type": "code",
   "execution_count": 383,
   "metadata": {},
   "outputs": [
    {
     "data": {
      "text/plain": [
       "[1, 4, 9, 16, 25]"
      ]
     },
     "execution_count": 383,
     "metadata": {},
     "output_type": "execute_result"
    }
   ],
   "source": [
    "my_map(square,list1)"
   ]
  },
  {
   "cell_type": "markdown",
   "metadata": {},
   "source": [
    "# List Comprehension:"
   ]
  },
  {
   "cell_type": "code",
   "execution_count": 331,
   "metadata": {},
   "outputs": [
    {
     "name": "stdout",
     "output_type": "stream",
     "text": [
      "['x', 'xx', 'xxx', 'xxxx', 'y', 'yy', 'yyy', 'yyyy', 'z', 'zz', 'zzz', 'zzzz']\n"
     ]
    }
   ],
   "source": [
    "ele = ['x','y','z']\n",
    "k = 4\n",
    "\n",
    "res =  [i*j for i in ele for j in range(1,k+1)] \n",
    "print(res)"
   ]
  },
  {
   "cell_type": "code",
   "execution_count": 332,
   "metadata": {},
   "outputs": [
    {
     "name": "stdout",
     "output_type": "stream",
     "text": [
      "['x', 'y', 'z', 'xx', 'yy', 'zz', 'xxx', 'yyy', 'zzz', 'xxxx', 'yyyy', 'zzzz']\n"
     ]
    }
   ],
   "source": [
    "ele = ['x','y','z']\n",
    "k = 4\n",
    "\n",
    "res =  [i*j for i in range(1,k+1) for j in ele] \n",
    "print(res)"
   ]
  },
  {
   "cell_type": "code",
   "execution_count": 333,
   "metadata": {},
   "outputs": [
    {
     "name": "stdout",
     "output_type": "stream",
     "text": [
      "[[2], [3], [4], [3], [4], [5], [4], [5], [6]]\n"
     ]
    }
   ],
   "source": [
    "\n",
    "input_list = [2,3,4]\n",
    "result = [ [item+j] for item in input_list for j in range(0,3) ]\n",
    "print(result)"
   ]
  },
  {
   "cell_type": "code",
   "execution_count": 334,
   "metadata": {},
   "outputs": [
    {
     "name": "stdout",
     "output_type": "stream",
     "text": [
      "[[2, 3, 4, 5], [3, 4, 5, 6], [4, 5, 6, 7], [5, 6, 7, 8]]\n"
     ]
    }
   ],
   "source": [
    "\n",
    "input_list = [2,3,4,5]\n",
    "result = [ [item+j for item in input_list] for j in range(0,4) ]\n",
    "print(result)"
   ]
  },
  {
   "cell_type": "code",
   "execution_count": 335,
   "metadata": {},
   "outputs": [
    {
     "name": "stdout",
     "output_type": "stream",
     "text": [
      "[(1, 1), (2, 1), (3, 1), (1, 2), (2, 2), (3, 2), (1, 3), (2, 3), (3, 3)]\n"
     ]
    }
   ],
   "source": [
    "\n",
    "input_list = [1,2,3]\n",
    "result = [ (item,j) for j in range(1,4) for item in input_list  ]\n",
    "print(result)"
   ]
  },
  {
   "cell_type": "markdown",
   "metadata": {},
   "source": [
    "# 1.1) Write a Python program to implement your own myreduce() function which works exactly like pythons built in function reduce"
   ]
  },
  {
   "cell_type": "code",
   "execution_count": 390,
   "metadata": {},
   "outputs": [
    {
     "name": "stdout",
     "output_type": "stream",
     "text": [
      "18\n"
     ]
    }
   ],
   "source": [
    "list1= [1, 2, 3, 3]\n",
    "def do_mul(x1, x2): \n",
    "    return x1 * x2\n",
    "from functools import reduce\n",
    "y1 = reduce(do_mul,list1)\n",
    "print(y1)"
   ]
  },
  {
   "cell_type": "code",
   "execution_count": 391,
   "metadata": {},
   "outputs": [
    {
     "data": {
      "text/plain": [
       "18"
      ]
     },
     "execution_count": 391,
     "metadata": {},
     "output_type": "execute_result"
    }
   ],
   "source": [
    "\n",
    "def do_mul(x1, x2): \n",
    "    return x1 * x2\n",
    "\n",
    "def myreduce(do_mul, list1):\n",
    "    first = seq[0]   \n",
    "    for i in seq[1:]:\n",
    "        first = func(first, i)\n",
    "    return first\n",
    " \n",
    " \n",
    "list1= [1, 2, 3, 3]\n",
    "my_reduce(do_mul,list1)"
   ]
  },
  {
   "cell_type": "markdown",
   "metadata": {},
   "source": [
    "# 1.2) write a python program to implement your own myfilter() function which works exactly like Pythons built in function filter"
   ]
  },
  {
   "cell_type": "code",
   "execution_count": 392,
   "metadata": {},
   "outputs": [
    {
     "data": {
      "text/plain": [
       "[5, 12, 17]"
      ]
     },
     "execution_count": 392,
     "metadata": {},
     "output_type": "execute_result"
    }
   ],
   "source": [
    "ages = [5,12,17,18,23,32]\n",
    "def myfunc(x):\n",
    "    if x<18:\n",
    "        \n",
    "        return True\n",
    "    \n",
    "    else:\n",
    "        return False\n",
    "adults = list(filter(myfunc,ages))\n",
    "adults\n"
   ]
  },
  {
   "cell_type": "code",
   "execution_count": 415,
   "metadata": {},
   "outputs": [
    {
     "data": {
      "text/plain": [
       "[5, 12, 17]"
      ]
     },
     "execution_count": 415,
     "metadata": {},
     "output_type": "execute_result"
    }
   ],
   "source": [
    "ages = [5,12,17,18,23,32]\n",
    "def myfunc(x):\n",
    "    if x<18:\n",
    "        \n",
    "        return True\n",
    "    \n",
    "    else:\n",
    "        return False\n",
    "def myfilter(myfunc,ages):\n",
    "    ret = []\n",
    "    for i in ages:\n",
    "        a = myfunc(i)\n",
    "        if a == True:\n",
    "            ret.append(i)\n",
    "    return ret\n",
    "myfilter(myfunc,ages)\n",
    "    "
   ]
  },
  {
   "cell_type": "markdown",
   "metadata": {},
   "source": [
    "#  3 ) Implement a function longestword() that takes a list of words and returns the longest one."
   ]
  },
  {
   "cell_type": "code",
   "execution_count": 419,
   "metadata": {},
   "outputs": [
    {
     "name": "stdout",
     "output_type": "stream",
     "text": [
      "hi how are you \n"
     ]
    },
    {
     "data": {
      "text/plain": [
       "['how', 'are', 'you']"
      ]
     },
     "execution_count": 419,
     "metadata": {},
     "output_type": "execute_result"
    }
   ],
   "source": [
    "def longest_word_functions(x):\n",
    "    \n",
    "    #latest correct code\n",
    "    length_append = []\n",
    "    index_values =[]\n",
    "    key_values= []\n",
    "    mydict = {}\n",
    "    \n",
    "    set_input = set(getinput)\n",
    "    max_length = max(len(ele) for ele in set_input)\n",
    "    for s in set_input:\n",
    "        length = len(s)\n",
    "        length_append.append([length,s])\n",
    "    for i in length_append:\n",
    "        if i[0] == max_length:\n",
    "            index_values.append(i[0])\n",
    "            key_values.append(i[1])\n",
    "        mydict['key1'] = index_values\n",
    "        mydict['key2'] = key_values\n",
    "   \n",
    "    \n",
    "    return (mydict['key2'])\n",
    "getinput = input().split()\n",
    "longest_word_functions(getinput)"
   ]
  },
  {
   "cell_type": "markdown",
   "metadata": {},
   "source": [
    "# Task 2\n",
    "# 1.1) write a python program to implement area of a triangle using the formula area = (s*(s-a)*(s-b)*(s-c))* *0.5\n",
    "# Functions to take the length of the sides of triangle from user should be defined in the parent class and function to calculate the area should be defined in subclass"
   ]
  },
  {
   "cell_type": "code",
   "execution_count": 384,
   "metadata": {},
   "outputs": [],
   "source": [
    "#Functions to get the length of triangle from user in Parent Class:\n",
    "class Length_of_triangle():\n",
    "    def __init__(self,a,b,c):\n",
    "        self.a = a\n",
    "        self.b = b\n",
    "        self.c = c\n",
    "    \n",
    "    \n",
    "    def __str__(self):\n",
    "        \n",
    "        return(\"a side is : %d b side is: %d c side is: %d\" %(self.a,self.b,self.c))\n",
    "\n",
    "                                "
   ]
  },
  {
   "cell_type": "code",
   "execution_count": 385,
   "metadata": {},
   "outputs": [
    {
     "name": "stdout",
     "output_type": "stream",
     "text": [
      "a side is : 2 b side is: 3 c side is: 3\n",
      "Perimeter is 4,                Area is 2.828427\n"
     ]
    }
   ],
   "source": [
    "#Area of Triangle is the subclass where its inheriting length of each sides from Parent class\n",
    "class Area_of_Triangle(Length_of_triangle):\n",
    "    def __init__(self,*args):\n",
    "        super(Area_of_Triangle,self). __init__(*args)\n",
    "    \n",
    "    def perimeter(self):\n",
    "        s=((self.a+self.b+self.c)/2)\n",
    "        area = (s*(s-self.a)*(s-self.b)*(s-self.c))**0.5\n",
    "        return (\"Perimeter is %d,\\\n",
    "                Area is %f\" %(s,area))\n",
    "    \n",
    "        \n",
    "    def __str__(self):\n",
    "        return super(Area_of_Triangle, self).__str__()\n",
    "tree = Area_of_Triangle(2,3,3)\n",
    "print(tree)\n",
    "print(tree.perimeter())\n"
   ]
  },
  {
   "cell_type": "markdown",
   "metadata": {},
   "source": [
    "  # 1.2) write a python filter_long_words() that takes a list of words and an integer n and returns the list of words that are longer than n"
   ]
  },
  {
   "cell_type": "code",
   "execution_count": 389,
   "metadata": {},
   "outputs": [
    {
     "name": "stdout",
     "output_type": "stream",
     "text": [
      "enter the list of words:hi how are you doing\n",
      "enter the n:3\n"
     ]
    },
    {
     "data": {
      "text/plain": [
       "['doing']"
      ]
     },
     "execution_count": 389,
     "metadata": {},
     "output_type": "execute_result"
    }
   ],
   "source": [
    "\n",
    "def filter_long_words(getinput,get_integer):\n",
    "    a = []\n",
    "    mydict = {}\n",
    "\n",
    "    for words in getinput:\n",
    "        if (len(words)> get_integer):\n",
    "            a.append(words)\n",
    "    return(a)\n",
    "getinput = input(\"enter the list of words:\").split()\n",
    "get_integer = int(input(\"enter the n:\"))\n",
    "\n",
    "filter_long_words(getinput,get_integer)"
   ]
  },
  {
   "cell_type": "markdown",
   "metadata": {},
   "source": [
    "# 2.1 Write a python program using function concept that maps list of words into a list of Integers representing the lengths of the corresponding words"
   ]
  },
  {
   "cell_type": "code",
   "execution_count": 388,
   "metadata": {},
   "outputs": [
    {
     "name": "stdout",
     "output_type": "stream",
     "text": [
      "Enter the list: hi how are you\n",
      "hi how are you\n",
      "[2, 3, 3, 3]\n"
     ]
    }
   ],
   "source": [
    "get_input = input(\"Enter the list: \")\n",
    "class maps_list_int():\n",
    "    def __init__(self,get_input):\n",
    "        self.get_input = get_input\n",
    "    def list_int(self):\n",
    "        s = self.get_input.split()\n",
    "        a = []\n",
    "        for words in s:\n",
    "            a.append(len(words))\n",
    "        return a\n",
    "            \n",
    "        \n",
    "    def __str__(self):\n",
    "        return (\"%s\" %(self.get_input))\n",
    "obj = maps_list_int(get_input)\n",
    "print(obj)\n",
    "print(obj.list_int())"
   ]
  },
  {
   "cell_type": "markdown",
   "metadata": {},
   "source": [
    "# 2.2 Write a Python function which takes a Character and returns TRUE if its Vowel else False"
   ]
  },
  {
   "cell_type": "code",
   "execution_count": 386,
   "metadata": {},
   "outputs": [
    {
     "name": "stdout",
     "output_type": "stream",
     "text": [
      "Enter '0' for exit.\n",
      "Enter any character: s\n"
     ]
    },
    {
     "data": {
      "text/plain": [
       "False"
      ]
     },
     "execution_count": 386,
     "metadata": {},
     "output_type": "execute_result"
    }
   ],
   "source": [
    "def vowel_or_not(ch):\n",
    "    if ch == '0':\n",
    "        exit();\n",
    "    else:\n",
    "        if(ch=='a' or ch=='A' or ch=='e' or ch=='E' or ch=='i' or ch=='I'or ch=='o' or ch=='O' or ch=='u' or ch=='U'):\n",
    "            return True\n",
    "        else:\n",
    "            return False\n",
    "print(\"Enter '0' for exit.\")\n",
    "ch = input(\"Enter any character: \")\n",
    "vowel_or_not(ch)"
   ]
  }
 ],
 "metadata": {
  "kernelspec": {
   "display_name": "Python 3",
   "language": "python",
   "name": "python3"
  },
  "language_info": {
   "codemirror_mode": {
    "name": "ipython",
    "version": 3
   },
   "file_extension": ".py",
   "mimetype": "text/x-python",
   "name": "python",
   "nbconvert_exporter": "python",
   "pygments_lexer": "ipython3",
   "version": "3.7.3"
  }
 },
 "nbformat": 4,
 "nbformat_minor": 2
}
