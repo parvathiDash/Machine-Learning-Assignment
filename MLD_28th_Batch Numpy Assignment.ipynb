{
 "cells": [
  {
   "cell_type": "markdown",
   "metadata": {},
   "source": [
    "# Write a function so that the columns of the output matrix are powers of the input vector.\n",
    "\n",
    "The order of the powers is determined by the increasing boolean argument. Specifically, when increasing is False, the i-th output column is the input vector raised element-wise to the power of N - i - 1.\n",
    "\n",
    "HINT: Such a matrix with a geometric progression in each row is named for Alexandre- Theophile Vandermonde.\n",
    "\n"
   ]
  },
  {
   "cell_type": "code",
   "execution_count": 321,
   "metadata": {},
   "outputs": [
    {
     "data": {
      "text/plain": [
       "array([1, 2, 3, 4, 5])"
      ]
     },
     "execution_count": 321,
     "metadata": {},
     "output_type": "execute_result"
    }
   ],
   "source": [
    "list1 = [1,2,3,4,5]\n",
    "a = np.array(list1)\n",
    "a"
   ]
  },
  {
   "cell_type": "code",
   "execution_count": 322,
   "metadata": {},
   "outputs": [
    {
     "data": {
      "text/plain": [
       "array([[  1,   1,   1,   1,   1],\n",
       "       [  1,   2,   4,   8,  16],\n",
       "       [  1,   3,   9,  27,  81],\n",
       "       [  1,   4,  16,  64, 256],\n",
       "       [  1,   5,  25, 125, 625]])"
      ]
     },
     "execution_count": 322,
     "metadata": {},
     "output_type": "execute_result"
    }
   ],
   "source": [
    "np.vander(a,increasing = True)"
   ]
  },
  {
   "cell_type": "code",
   "execution_count": 323,
   "metadata": {},
   "outputs": [
    {
     "data": {
      "text/plain": [
       "array([[  1,   1,   1,   1,   1],\n",
       "       [ 16,   8,   4,   2,   1],\n",
       "       [ 81,  27,   9,   3,   1],\n",
       "       [256,  64,  16,   4,   1],\n",
       "       [625, 125,  25,   5,   1]])"
      ]
     },
     "execution_count": 323,
     "metadata": {},
     "output_type": "execute_result"
    }
   ],
   "source": [
    "np.vander(a)"
   ]
  },
  {
   "cell_type": "markdown",
   "metadata": {},
   "source": [
    "# Given a sequence of n values x1, x2, ..., xn and a window size k>0, the k-th moving average of the given sequence is defined as follows:\n",
    "\n",
    "The moving average sequence has n-k+1 elements as shown below.\n",
    "The moving averages with k=4 of a ten-value sequence (n=10) is shown below i\t1 2 3 4 5 6 7 8 9 10\n",
    "===== == == == == == == == == == == Input 10 20 30 40 50 60 70 80 90 100\n",
    "y1\t25 = (10+20+30+40)/4\n",
    "y2\t35 = (20+30+40+50)/4\n",
    "y3\t45 = (30+40+50+60)/4\n",
    "y4\t55 = (40+50+60+70)/4\n",
    "y5\t65 = (50+60+70+80)/4\n",
    "y6\t75 = (60+70+80+90)/4\n",
    "y7\t85 = (70+80+90+100)/4\n",
    "\n",
    "Thus, the moving average sequence has n-k+1=10-4+1=7 values.\n",
    " \n",
    "Question: Write a function to find moving average in an array over a window:\n",
    "Test it over [3, 5, 7, 2, 8, 10, 11, 65, 72, 81, 99, 100, 150] and window of 3.\n"
   ]
  },
  {
   "cell_type": "code",
   "execution_count": 330,
   "metadata": {},
   "outputs": [
    {
     "data": {
      "text/plain": [
       "array([0.33333333, 0.33333333, 0.33333333])"
      ]
     },
     "execution_count": 330,
     "metadata": {},
     "output_type": "execute_result"
    }
   ],
   "source": [
    "import numpy as np\n",
    "dataset = [3, 5, 7, 2, 8, 10, 11, 65, 72, 81, 99, 100, 150]\n",
    "\n",
    "def movingavrage(values,window):\n",
    "    weights = np.repeat(1.0,window)/window\n",
    "    smas = np.convolve(values,weights,'valid')\n",
    "    return weights \n",
    "\n",
    "\n",
    "movingavrage(dataset,3)"
   ]
  },
  {
   "cell_type": "markdown",
   "metadata": {},
   "source": [
    "# Function obtaining moving average using numpy np.ones"
   ]
  },
  {
   "cell_type": "code",
   "execution_count": 338,
   "metadata": {},
   "outputs": [
    {
     "data": {
      "text/plain": [
       "array([  5.        ,   4.66666667,   5.66666667,   6.66666667,\n",
       "         9.66666667,  28.66666667,  49.33333333,  72.66666667,\n",
       "        84.        ,  93.33333333, 116.33333333])"
      ]
     },
     "execution_count": 338,
     "metadata": {},
     "output_type": "execute_result"
    }
   ],
   "source": [
    "import numpy as np\n",
    "dataset = [3, 5, 7, 2, 8, 10, 11, 65, 72, 81, 99, 100, 150]\n",
    "\n",
    "def movingavrage_npones(values,window):\n",
    "    weights = np.ones(window)/window\n",
    "    smas = np.convolve(values,weights,'valid')\n",
    "    return smas \n",
    "\n",
    "\n",
    "movingavrage_npones(dataset,3)"
   ]
  },
  {
   "cell_type": "markdown",
   "metadata": {},
   "source": [
    "# using for loop and enumerate finding the cumulative sum and calculating moving average"
   ]
  },
  {
   "cell_type": "code",
   "execution_count": 329,
   "metadata": {},
   "outputs": [
    {
     "name": "stdout",
     "output_type": "stream",
     "text": [
      "y1 5.0  =  [0, 3, 8, 15]\n",
      "y2 4.666666666666667  =  [0, 3, 8, 15, 17]\n",
      "y3 5.666666666666667  =  [0, 3, 8, 15, 17, 25]\n",
      "y4 6.666666666666667  =  [0, 3, 8, 15, 17, 25, 35]\n",
      "y5 9.666666666666666  =  [0, 3, 8, 15, 17, 25, 35, 46]\n",
      "y6 28.666666666666668  =  [0, 3, 8, 15, 17, 25, 35, 46, 111]\n",
      "y7 49.333333333333336  =  [0, 3, 8, 15, 17, 25, 35, 46, 111, 183]\n",
      "y8 72.66666666666667  =  [0, 3, 8, 15, 17, 25, 35, 46, 111, 183, 264]\n",
      "y9 84.0  =  [0, 3, 8, 15, 17, 25, 35, 46, 111, 183, 264, 363]\n",
      "y10 93.33333333333333  =  [0, 3, 8, 15, 17, 25, 35, 46, 111, 183, 264, 363, 463]\n",
      "y11 116.33333333333333  =  [0, 3, 8, 15, 17, 25, 35, 46, 111, 183, 264, 363, 463, 613]\n"
     ]
    }
   ],
   "source": [
    "import numpy as np\n",
    "dataset = [3, 5, 7, 2, 8, 10, 11, 65, 72, 81, 99, 100, 150]\n",
    "k = 3\n",
    "cumsum = [0]\n",
    "xval = []\n",
    "moving_aves =[]\n",
    "for i,x in enumerate(dataset,1):\n",
    "    cumsum.append(cumsum[i-1]+x)\n",
    "    if(i>=k):\n",
    "        moving_ave = (cumsum[i]-cumsum[i-k])/k\n",
    "        print(\"y\"+str((i+1-k)),str(moving_ave) + \"  =  \"+ str(cumsum))"
   ]
  },
  {
   "cell_type": "code",
   "execution_count": null,
   "metadata": {},
   "outputs": [],
   "source": []
  }
 ],
 "metadata": {
  "kernelspec": {
   "display_name": "Python 3",
   "language": "python",
   "name": "python3"
  },
  "language_info": {
   "codemirror_mode": {
    "name": "ipython",
    "version": 3
   },
   "file_extension": ".py",
   "mimetype": "text/x-python",
   "name": "python",
   "nbconvert_exporter": "python",
   "pygments_lexer": "ipython3",
   "version": "3.7.3"
  }
 },
 "nbformat": 4,
 "nbformat_minor": 2
}
